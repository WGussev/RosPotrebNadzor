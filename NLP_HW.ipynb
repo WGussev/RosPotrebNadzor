{
 "cells": [
  {
   "cell_type": "code",
   "execution_count": 1,
   "metadata": {},
   "outputs": [],
   "source": [
    "import requests\n",
    "from bs4 import BeautifulSoup\n",
    "import pandas as pd\n",
    "from tqdm import tqdm\n",
    "from time import sleep"
   ]
  },
  {
   "cell_type": "code",
   "execution_count": 2,
   "metadata": {},
   "outputs": [],
   "source": [
    "import re\n",
    "from pymystem3 import Mystem\n",
    "from sklearn.feature_extraction.text import CountVectorizer\n",
    "from nltk.corpus import stopwords"
   ]
  },
  {
   "cell_type": "code",
   "execution_count": 3,
   "metadata": {},
   "outputs": [],
   "source": [
    "from scipy.sparse.linalg import svds\n",
    "from numpy import argsort\n",
    "from numpy import diag"
   ]
  },
  {
   "cell_type": "code",
   "execution_count": 4,
   "metadata": {},
   "outputs": [],
   "source": [
    "from numpy.linalg import norm\n",
    "from numpy import zeros\n",
    "from  numpy import ndarray"
   ]
  },
  {
   "cell_type": "code",
   "execution_count": 5,
   "metadata": {},
   "outputs": [],
   "source": [
    "from scipy.sparse import save_npz, load_npz\n",
    "from pickle import load, dump"
   ]
  },
  {
   "cell_type": "markdown",
   "metadata": {},
   "source": [
    "### 1. Парсинг данных\n",
    "Каждое обращение на сайте Роспотребнадзора публикуется на отедльной странице с адресом http://zpp.rospotrebnadzor.ru/Forum/Appeals/Details/{НОМЕР_ОБРАЩЕНИЯ}. Нумерация обращений последовательная, поэтому чтобы собрать датасет, по очереди обходим все страницы (на 19.10.2019 последняя имеет порядковый номер 12739). На каждой странице собираем текст обращения, ответ на него и даты из публикации."
   ]
  },
  {
   "cell_type": "code",
   "execution_count": 6,
   "metadata": {},
   "outputs": [],
   "source": [
    "def scrape(out_file: str):\n",
    "    df = pd.DataFrame(columns=('number', 'appeal', 'appeal_date', 'response', 'response_date'))\n",
    "    log = []\n",
    "    for page_num in range(6365, 12739):\n",
    "        try:\n",
    "            url = f'http://zpp.rospotrebnadzor.ru/Forum/Appeals/Details/{page_num}'\n",
    "            page = requests.get(url)\n",
    "            if page.url == url:\n",
    "                soup = BeautifulSoup(page.text, 'html.parser')\n",
    "                appeal =soup.find('p', attrs={'class': \"appeal-details-message\"}).text\n",
    "                appeal_date = soup.find('p', attrs={'class': \"appeal-element-bottom\"}).text\n",
    "                response = soup.find('p', attrs={'class': \"appeal-comments-message\"}).text\n",
    "                response_date = soup.find('p', attrs={'class': \"appeal-comments-date\"}).text\n",
    "                case = {'number': page_num,\n",
    "                        'appeal': appeal,\n",
    "                        'appeal_date': appeal_date,\n",
    "                        'response': response,\n",
    "                        'response_date': response_date}\n",
    "                df = df.append(case, ignore_index=True)\n",
    "                print(page_num)\n",
    "            else:\n",
    "                print('missed')\n",
    "        except Exception as err:\n",
    "            log.append((page_num, err))\n",
    "        sleep(0.5)\n",
    "    df.to_csv(out_file)"
   ]
  },
  {
   "cell_type": "markdown",
   "metadata": {},
   "source": [
    "При последующих запусках читаем сохраненные данные из RPNfull.csv (есть в репозитории)."
   ]
  },
  {
   "cell_type": "code",
   "execution_count": 7,
   "metadata": {},
   "outputs": [],
   "source": [
    "df = pd.read_csv('RPNfull.csv')"
   ]
  },
  {
   "cell_type": "markdown",
   "metadata": {},
   "source": [
    "### 2. Preprocessing"
   ]
  },
  {
   "cell_type": "markdown",
   "metadata": {},
   "source": [
    "В ходе предобработки оставляем только символы-буквы, удаляем лишние пробелы и разбиваем текст на слова. Далее производим лемматизацию (приведение к начальной форме) слов очищенного текста, используя https://github.com/nlpub/pymystem3.\n",
    "Возвращаем строку из начальных форм."
   ]
  },
  {
   "cell_type": "code",
   "execution_count": 8,
   "metadata": {},
   "outputs": [],
   "source": [
    "stemmer = Mystem()\n",
    "def preprocess(text):\n",
    "    # strip all non-alphabetical characaters\n",
    "    text = re.sub('[^А-яA-z]', ' ', text)\n",
    "    new_text = []\n",
    "    for char in range(len(text)):\n",
    "        if (text[char] == ' ') and (text[char-1] == ' '):\n",
    "            pass\n",
    "        else:\n",
    "            new_text.append(text[char])\n",
    "    text = ''.join(new_text)\n",
    "    # tokenize and lemmatize\n",
    "    tokens = [word for word in stemmer.lemmatize(text) if ((word != ' ') and (word != ' \\n'))]\n",
    "    return ' '.join(tokens)"
   ]
  },
  {
   "cell_type": "markdown",
   "metadata": {},
   "source": [
    "Также на этапе предобработки определим список стоп-слов, которые будут пропускаться при построении модели и сборе словаря, перечня используемых слов. Дполним стандартный список из nltk.corpus.stopwords.words('russian'). Во-первых, внесем стоп-слова, определенные при первых запусках векторизации текстов (см. изображение ниже). Во-вторых, расширим список словами, которые встречались более, чем в половине определенных на ранних итерациях работы над проектом топиках."
   ]
  },
  {
   "attachments": {
    "image.png": {
     "image/png": "[encoded data removed]"
    }
   },
   "cell_type": "markdown",
   "metadata": {},
   "source": [
    "![image.png](attachment:image.png)"
   ]
  },
  {
   "cell_type": "code",
   "execution_count": 9,
   "metadata": {},
   "outputs": [
    {
     "name": "stdout",
     "output_type": "stream",
     "text": [
      "['и', 'в', 'во', 'не', 'что', 'он', 'на', 'я', 'с', 'со', 'как', 'а', 'то', 'все', 'она', 'так', 'его', 'но', 'да', 'ты', 'к', 'у', 'же', 'вы', 'за', 'бы', 'по', 'только', 'ее', 'мне', 'было', 'вот', 'от', 'меня', 'еще', 'нет', 'о', 'из', 'ему', 'теперь', 'когда', 'даже', 'ну', 'вдруг', 'ли', 'если', 'уже', 'или', 'ни', 'быть', 'был', 'него', 'до', 'вас', 'нибудь', 'опять', 'уж', 'вам', 'ведь', 'там', 'потом', 'себя', 'ничего', 'ей', 'может', 'они', 'тут', 'где', 'есть', 'надо', 'ней', 'для', 'мы', 'тебя', 'их', 'чем', 'была', 'сам', 'чтоб', 'без', 'будто', 'чего', 'раз', 'тоже', 'себе', 'под', 'будет', 'ж', 'тогда', 'кто', 'этот', 'того', 'потому', 'этого', 'какой', 'совсем', 'ним', 'здесь', 'этом', 'один', 'почти', 'мой', 'тем', 'чтобы', 'нее', 'сейчас', 'были', 'куда', 'зачем', 'всех', 'никогда', 'можно', 'при', 'наконец', 'два', 'об', 'другой', 'хоть', 'после', 'над', 'больше', 'тот', 'через', 'эти', 'нас', 'про', 'всего', 'них', 'какая', 'много', 'разве', 'три', 'эту', 'моя', 'впрочем', 'хорошо', 'свою', 'этой', 'перед', 'иногда', 'лучше', 'чуть', 'том', 'нельзя', 'такой', 'им', 'более', 'всегда', 'конечно', 'всю', 'между', 'весь', 'свой', 'это', 'год', 'день', 'который', 'дом', 'сказать']\n"
     ]
    }
   ],
   "source": [
    "# download nltk stopwords for Russian language\n",
    "upd_stopwords = stopwords.words('russian')\n",
    "# stop words defined by vectorizer\n",
    "upd_stopwords.extend(['весь', 'свой', 'это'])\n",
    "# stop words defined after topic analysis\n",
    "upd_stopwords.extend(['год', 'день', 'который'])\n",
    "upd_stopwords.extend(['дом', 'сказать'])\n",
    "print(upd_stopwords)"
   ]
  },
  {
   "cell_type": "markdown",
   "metadata": {},
   "source": [
    "### 3. Vectorization"
   ]
  },
  {
   "cell_type": "markdown",
   "metadata": {},
   "source": [
    "Перейдем к векторизации текстов. Инициализируем векторизатор с помощью опредленных ранее предобработки и стоп-слов. Применим его мтеод fit_transform на копусе из текстов обращений или загрузим сохраненную матрицу векотрных представлений текстов."
   ]
  },
  {
   "cell_type": "code",
   "execution_count": 10,
   "metadata": {},
   "outputs": [
    {
     "ename": "TypeError",
     "evalue": "write() argument must be str, not bytes",
     "output_type": "error",
     "traceback": [
      "\u001b[0;31m---------------------------------------------------------------------------\u001b[0m",
      "\u001b[0;31mTypeError\u001b[0m                                 Traceback (most recent call last)",
      "\u001b[0;32m<ipython-input-10-77279364b838>\u001b[0m in \u001b[0;36m<module>\u001b[0;34m\u001b[0m\n\u001b[1;32m      8\u001b[0m \u001b[0msave_npz\u001b[0m\u001b[0;34m(\u001b[0m\u001b[0;34m'matrix.npz'\u001b[0m\u001b[0;34m,\u001b[0m \u001b[0mmatrix\u001b[0m\u001b[0;34m)\u001b[0m\u001b[0;34m\u001b[0m\u001b[0;34m\u001b[0m\u001b[0m\n\u001b[1;32m      9\u001b[0m \u001b[0;32mwith\u001b[0m \u001b[0mopen\u001b[0m\u001b[0;34m(\u001b[0m\u001b[0;34m'vectorizer.pickle'\u001b[0m\u001b[0;34m,\u001b[0m \u001b[0;34m'x'\u001b[0m\u001b[0;34m)\u001b[0m \u001b[0;32mas\u001b[0m \u001b[0mf\u001b[0m\u001b[0;34m:\u001b[0m\u001b[0;34m\u001b[0m\u001b[0;34m\u001b[0m\u001b[0m\n\u001b[0;32m---> 10\u001b[0;31m     \u001b[0mdump\u001b[0m\u001b[0;34m(\u001b[0m\u001b[0mcounter\u001b[0m\u001b[0;34m,\u001b[0m \u001b[0mf\u001b[0m\u001b[0;34m)\u001b[0m\u001b[0;34m\u001b[0m\u001b[0;34m\u001b[0m\u001b[0m\n\u001b[0m",
      "\u001b[0;31mTypeError\u001b[0m: write() argument must be str, not bytes"
     ]
    }
   ],
   "source": [
    "try:\n",
    "    matrix = load_npz('matrix.npz')\n",
    "except IOError:\n",
    "    # vectorize the corpus, df.appeal\n",
    "    counter = CountVectorizer(preprocessor=preprocess, stop_words=upd_stopwords)\n",
    "    # save the matrix\n",
    "    matrix = counter.fit_transform(list(df.appeal))\n",
    "    save_npz('matrix.npz', matrix)\n",
    "    # save the vectorizer\n",
    "    with open('vectorizer.pickle', 'xb') as f:\n",
    "        dump(counter, f)"
   ]
  },
  {
   "cell_type": "markdown",
   "metadata": {},
   "source": [
    "Подсчитаем втречаемость слов в корпусе. Сохраним в словарь пары слов-встречаемость."
   ]
  },
  {
   "cell_type": "code",
   "execution_count": 13,
   "metadata": {},
   "outputs": [],
   "source": [
    "# count word occurencies\n",
    "wordcounts = matrix.sum(axis=0)\n",
    "wordcounts = wordcounts.tolist()[0]\n",
    "wordcounts = [(key, wordcounts[number]) for key, number in counter.vocabulary_.items()]\n",
    "wordcounts.sort(key=lambda x: x[1], reverse=True)"
   ]
  },
  {
   "cell_type": "code",
   "execution_count": 14,
   "metadata": {},
   "outputs": [
    {
     "data": {
      "text/plain": [
       "[('магазин', 7130),\n",
       " ('товар', 6136),\n",
       " ('данный', 4703),\n",
       " ('телефон', 4006),\n",
       " ('деньги', 3969),\n",
       " ('просить', 3932),\n",
       " ('услуга', 3621),\n",
       " ('договор', 3591),\n",
       " ('мочь', 3546),\n",
       " ('адрес', 3232),\n",
       " ('вернуть', 3099),\n",
       " ('возврат', 3098),\n",
       " ('обращаться', 2824),\n",
       " ('добрый', 2773),\n",
       " ('компания', 2769)]"
      ]
     },
     "execution_count": 14,
     "metadata": {},
     "output_type": "execute_result"
    }
   ],
   "source": [
    "wordcounts[:15]"
   ]
  },
  {
   "cell_type": "markdown",
   "metadata": {},
   "source": [
    "\"Перевернем\" стандартный словарь-атрибут counter.vocabulary_, чтобы можно было искать слова по их позиции в векторе."
   ]
  },
  {
   "cell_type": "code",
   "execution_count": 15,
   "metadata": {},
   "outputs": [],
   "source": [
    "# make words searchable by their position in the dictionary\n",
    "my_vocab = {number: word for word, number in counter.vocabulary_.items()}"
   ]
  },
  {
   "cell_type": "markdown",
   "metadata": {},
   "source": [
    "### 4. LSI (Latent Symantic Analysis) with SVD"
   ]
  },
  {
   "cell_type": "markdown",
   "metadata": {},
   "source": [
    "Одним из заданий работы было провести Latent Symantic Analysis и провести моделирование топиков (тем) корпуса текстов обращений в Роспотребнадзор.\n",
    "Используем для этого функцию scipy.sparse.linalg.svds(), выполняющую SVD-разложение разряженных матриц. Предварительно определим количество сингулярных значений, а значит топиков как 20."
   ]
  },
  {
   "cell_type": "code",
   "execution_count": 16,
   "metadata": {},
   "outputs": [],
   "source": [
    "# svd-decompose the wordcount matrix to retrieve prevalent word combintaions aka topics\n",
    "U, S, VT = svds(matrix.asfptype(), k=20)"
   ]
  },
  {
   "cell_type": "code",
   "execution_count": 17,
   "metadata": {},
   "outputs": [],
   "source": [
    "# multiply S with VT\n",
    "SVT = diag(S) @ VT"
   ]
  },
  {
   "cell_type": "markdown",
   "metadata": {},
   "source": [
    "Для полученных топиков выведем входящие в них слова с весами. "
   ]
  },
  {
   "cell_type": "markdown",
   "metadata": {},
   "source": [
    "ПРОМЕЖУТОЧНЫЙ ВЫВОД ПО ТОПИКАМ: Не все полученные топики одинаково хорошо поддаются интерпретации: использование SVD -- достаточно искусcтвенный прием для тематического моделирования.\n",
    "Приведем наиболее удачные, однородные примеры: перевозки, коммунальное хозяйство, элементы ссылок. Особенно иллюстративен пример ссылок: их составные части повторяются из текста в текст и оказались в одном топике."
   ]
  },
  {
   "cell_type": "code",
   "execution_count": 26,
   "metadata": {},
   "outputs": [
    {
     "name": "stdout",
     "output_type": "stream",
     "text": [
      "[(8.29813116558858, 'гарантийный'), (8.5231242357904, 'компания'), (9.591530575316202, 'срок'), (11.653951272453314, 'сервисный'), (12.751398751563784, 'центр'), (14.8692445122276, 'возврат'), (19.63950933081758, 'денежный'), (24.6508619246089, 'средство'), (24.97227817480451, 'ремонт'), (39.56218109925719, 'данный')]\n",
      "\n",
      "[(8.387650438446727, 'тариф'), (8.813855844237116, 'оказание'), (8.997388194212322, 'телефон'), (12.311333770465593, 'оператор'), (13.111039257445444, 'руб'), (13.887964210548102, 'связь'), (18.18182453078491, 'интернет'), (35.54151329941684, 'договор'), (41.82877895250325, 'магазин'), (59.48256341641661, 'услуга')]\n",
      "\n",
      "[(15.710986381619938, 'продукт'), (16.257553511082705, 'документ'), (18.21734441431395, 'деньги'), (18.91605929323902, 'просить'), (21.394637746483543, 'обработка'), (26.516791631170626, 'человек'), (28.685857563067, 'кафе'), (31.32126240754412, 'санитарный'), (33.139361065043865, 'магазин'), (37.69564940627271, 'телефон')]\n",
      "\n"
     ]
    }
   ],
   "source": [
    "# represent the topics as the words they consist of\n",
    "topics = []\n",
    "i = 0\n",
    "for row in argsort(VT, axis=1):\n",
    "    topics.append([(SVT[i][word], my_vocab[word]) for word in row[-10:]])\n",
    "    i += 1\n",
    "print(topics[4], end='\\n\\n')\n",
    "print(topics[11], end='\\n\\n')\n",
    "print(topics[15], end='\\n\\n')"
   ]
  },
  {
   "cell_type": "markdown",
   "metadata": {},
   "source": [
    "Напишем функции для представления текста как набора тем.\n",
    "\n",
    "- text_as_topics() векторизует текст ортогонально проецирует полученный вектор на подпространство натянутое на вектора-темы. Эти вектора ортогональны, но не являются базисом для полученного пространтсва, поэтому при проекцировании возможны некоторые потери. Теперь мы можем определить присутствие найденных тем в любом тексте, а не только в тексте из корпуса. Это может быть полезно для обработки новых текстов без перестраивания модели.\n",
    "\n",
    "- show_topics() просто выводит на экран слова тем, наиболее значимых в данном тексте. "
   ]
  },
  {
   "cell_type": "code",
   "execution_count": 19,
   "metadata": {},
   "outputs": [],
   "source": [
    "def text_as_topics(text: str, vectorizer: CountVectorizer, SVT: ndarray) -> ndarray:\n",
    "    \n",
    "    \"\"\"Compute approximate topic representation for the text\"\"\"\n",
    "    \n",
    "    coefficients = zeros((len(SVT), 1))\n",
    "    # vectorize text\n",
    "    vector = counter.transform([text])\n",
    "    # project text onto the topics from SVT\n",
    "    for row in range(len(SVT)):\n",
    "        projection = vector @ SVT[row].reshape(-1, 1) / norm(SVT[row], ord=1)\n",
    "        coefficients[row, 0] = projection\n",
    "    return coefficients\n",
    "\n",
    "def show_topics(coefficients, topics):\n",
    "    \n",
    "    \"\"\"Verbose top-5 topics\"\"\"\n",
    "    \n",
    "    for topic in argsort(coefficients, axis=0)[-1:-6:-1]:\n",
    "        top = (topic[0], coefficients[topic][0][0], [row[1] for row in topics[topic[0]]])\n",
    "        print(top)"
   ]
  },
  {
   "cell_type": "markdown",
   "metadata": {},
   "source": [
    "ПРИМЕР. Разложим на темы случайный текст из корпуса. Это обращение по гарантийному обслуживанию товара. Топики так или иначе сязаны с гарантийными обязательствами продавца (ремонт, возврат)."
   ]
  },
  {
   "cell_type": "code",
   "execution_count": 20,
   "metadata": {},
   "outputs": [],
   "source": [
    "# load the vectorizer"
   ]
  },
  {
   "cell_type": "code",
   "execution_count": 23,
   "metadata": {},
   "outputs": [],
   "source": [
    "with open('vectorizer.pickle', 'rb') as f:\n",
    "    counter = load(f)"
   ]
  },
  {
   "cell_type": "code",
   "execution_count": 27,
   "metadata": {},
   "outputs": [
    {
     "name": "stdout",
     "output_type": "stream",
     "text": [
      "02.08 была привезена стиральная машина (доставка + подъем на 3 этаж без лифта).\r\n",
      "03.08 при тестовых прогонах нами была обнаружена течь снизу. В этот же день обратились на Горячую линию с проблемой, нам было рекомендовано обратиться в сервисный центр, что мы и сделали. Мастер приехал 7.08 и обнаружил проблему - трещину на Баке. После чего мы обратились снова в Ситилинк, так как ремонт негарантийный. После многочисленных звонков с напоминанием о нашей проблеме - нам в итоге пришел отказ, мотивированный тем что при приеме товара у нас не было претензий к внешнему виду... Претензий к внешнему виду действительно нет. Но каким образом мы могли увидеть трещину на баке?! Просьба оказать помощь в решении данной ситуации.\n",
      "(19, 0.07631808574259769, ['возврат', 'продавец', 'телефон', 'право', 'данный', 'услуга', 'потребитель', 'договор', 'магазин', 'товар'])\n",
      "(4, 0.04800317297353405, ['гарантийный', 'компания', 'срок', 'сервисный', 'центр', 'возврат', 'денежный', 'средство', 'ремонт', 'данный'])\n",
      "(8, 0.040799259999158836, ['наш', 'ооо', 'квартира', 'мастер', 'мочь', 'ребенок', 'ремонт', 'автомобиль', 'работа', 'договор'])\n",
      "(15, 0.025849485243262894, ['продукт', 'документ', 'деньги', 'просить', 'обработка', 'человек', 'кафе', 'санитарный', 'магазин', 'телефон'])\n",
      "(13, 0.015509071053541844, ['гарантийный', 'закон', 'право', 'центр', 'работа', 'сервисный', 'банк', 'магазин', 'ремонт', 'телефон'])\n",
      "[ 4  8 19 15  9]\n"
     ]
    }
   ],
   "source": [
    "# example topic modelling\n",
    "text = df.appeal[6859]\n",
    "print(text)\n",
    "coefs = text_as_topics(text, counter, SVT)\n",
    "show_topics(coefs, topics)\n",
    "# compare topic coeffs with the coeffs from the U-matrix\n",
    "print(argsort(U[6859])[-1:-6:-1])"
   ]
  },
  {
   "cell_type": "markdown",
   "metadata": {},
   "source": [
    "ВТОРОЙ ПРОМЕЖУТОЧНЫЙ ВЫВОД. Полученные топики хотя и можно интерпетировать, на мой взгляд, слишком общи и зачастую могут характеризовать почти любой текст из копуса. Возможно это связано с однородностью ткстов: люди преимущественно спорят с продавцами о некачественном товаре/услуге и их возврате. "
   ]
  },
  {
   "cell_type": "code",
   "execution_count": null,
   "metadata": {},
   "outputs": [],
   "source": []
  }
 ],
 "metadata": {
  "kernelspec": {
   "display_name": "Python 3",
   "language": "python",
   "name": "python3"
  },
  "language_info": {
   "codemirror_mode": {
    "name": "ipython",
    "version": 3
   },
   "file_extension": ".py",
   "mimetype": "text/x-python",
   "name": "python",
   "nbconvert_exporter": "python",
   "pygments_lexer": "ipython3",
   "version": "3.7.3"
  }
 },
 "nbformat": 4,
 "nbformat_minor": 2
}
